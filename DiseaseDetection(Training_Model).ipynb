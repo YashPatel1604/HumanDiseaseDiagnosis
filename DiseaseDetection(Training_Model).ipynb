{
  "nbformat": 4,
  "nbformat_minor": 0,
  "metadata": {
    "colab": {
      "name": "DiseaseDetection(Training Model).ipynb",
      "provenance": [],
      "collapsed_sections": [],
      "authorship_tag": "ABX9TyO0zNmsMsc5W6ytUDOV/uMy",
      "include_colab_link": true
    },
    "kernelspec": {
      "name": "python3",
      "display_name": "Python 3"
    },
    "language_info": {
      "name": "python"
    }
  },
  "cells": [
    {
      "cell_type": "markdown",
      "metadata": {
        "id": "view-in-github",
        "colab_type": "text"
      },
      "source": [
        "<a href=\"https://colab.research.google.com/github/YashPatel1604/HumanDiseaseDiagnosis/blob/main/DiseaseDetection(Training_Model).ipynb\" target=\"_parent\"><img src=\"https://colab.research.google.com/assets/colab-badge.svg\" alt=\"Open In Colab\"/></a>"
      ]
    },
    {
      "cell_type": "code",
      "source": [
        "!pip install multipledispatch"
      ],
      "metadata": {
        "colab": {
          "base_uri": "https://localhost:8080/"
        },
        "id": "Bi2TDMuzOy53",
        "outputId": "db5f31fa-1329-466d-9208-8e588eb25a13"
      },
      "execution_count": 1,
      "outputs": [
        {
          "output_type": "stream",
          "name": "stdout",
          "text": [
            "Looking in indexes: https://pypi.org/simple, https://us-python.pkg.dev/colab-wheels/public/simple/\n",
            "Collecting multipledispatch\n",
            "  Downloading multipledispatch-0.6.0-py3-none-any.whl (11 kB)\n",
            "Requirement already satisfied: six in /usr/local/lib/python3.7/dist-packages (from multipledispatch) (1.15.0)\n",
            "Installing collected packages: multipledispatch\n",
            "Successfully installed multipledispatch-0.6.0\n"
          ]
        }
      ]
    },
    {
      "cell_type": "code",
      "execution_count": 37,
      "metadata": {
        "id": "odYNpr373zIY"
      },
      "outputs": [],
      "source": [
        "import numpy as np\n",
        "import pandas as pd\n",
        "from scipy.stats import mode\n",
        "import matplotlib.pyplot as plt\n",
        "import seaborn as sns\n",
        "from sklearn.preprocessing import LabelEncoder\n",
        "from sklearn.model_selection import train_test_split, cross_val_score\n",
        "from sklearn.svm import SVC\n",
        "from sklearn.ensemble import RandomForestClassifier\n",
        "from sklearn.metrics import accuracy_score, confusion_matrix\n",
        "from sklearn.naive_bayes import GaussianNB\n",
        "from multipledispatch import dispatch\n",
        "from sklearn import tree\n",
        "import pickle\n",
        "from sklearn.neighbors import KNeighborsClassifier\n",
        "\n",
        "\n",
        "%matplotlib inline"
      ]
    },
    {
      "cell_type": "code",
      "source": [
        "train_df = pd.read_csv('Training.csv')\n",
        "test_df = pd.read_csv('Testing.csv')"
      ],
      "metadata": {
        "id": "4Gl0CPanDMXg"
      },
      "execution_count": 67,
      "outputs": []
    },
    {
      "cell_type": "code",
      "source": [
        "encoder = LabelEncoder()\n",
        "def transform(x):\n",
        "  x.dropna(axis=1)\n",
        "  for y in x.columns:\n",
        "   x[y] = encoder.fit_transform(x[y])\n",
        "   \n",
        "@dispatch(object,float)\n",
        "def split(x,size):\n",
        "  X = x.iloc[:,:-1]\n",
        "  y = x.iloc[:, -1]\n",
        "  return train_test_split(X, y, test_size = size, random_state = 8)\n",
        "\n",
        "@dispatch(object)\n",
        "def split(x):\n",
        "  X = x.iloc[:,:-1]\n",
        "  y = x.iloc[:, -1]\n",
        "  return X,y"
      ],
      "metadata": {
        "id": "OSKsalI4CkHP"
      },
      "execution_count": 68,
      "outputs": []
    },
    {
      "cell_type": "code",
      "source": [
        "transform(train_df)\n",
        "transform(test_df)\n",
        "X,y = split(train_df)\n",
        "X_train,X_vali,y_train,y_vali = split(train_df,0.2)\n",
        "X_test,y_test = split(test_df)"
      ],
      "metadata": {
        "id": "Ek_BzTliDjrC"
      },
      "execution_count": 69,
      "outputs": []
    },
    {
      "cell_type": "code",
      "source": [
        "def models():\n",
        "  svm = SVC(max_iter = 100)\n",
        "  nb = GaussianNB()\n",
        "  rf = RandomForestClassifier(random_state=18)\n",
        "  dt = tree.DecisionTreeClassifier()\n",
        "  svm.fit(X_train, y_train)\n",
        "  nb.fit(X_train, y_train)\n",
        "  rf.fit(X_train, y_train)\n",
        "  return svm,nb,rf"
      ],
      "metadata": {
        "id": "J5phnZPQZ5rj"
      },
      "execution_count": 70,
      "outputs": []
    },
    {
      "cell_type": "code",
      "source": [
        "svm,nb,rf=models()"
      ],
      "metadata": {
        "id": "i2REGCHXayOp"
      },
      "execution_count": 71,
      "outputs": []
    },
    {
      "cell_type": "code",
      "source": [
        "svm_preds = svm.predict(X_test)\n",
        "nb_preds = nb.predict(X_test)\n",
        "rf_preds = rf.predict(X_test)\n",
        "# knn_preds = knn.predict(X_test)\n",
        "final_preds = [mode([i,j,k])[0][0] for i,j,k, in zip(svm_preds, nb_preds, rf_preds)]\n",
        "print(f\"Accuracy on train data by Combined Model\\\n",
        ": {accuracy_score(y_train, nb.predict(X_train))*100}\")\n",
        "\n",
        "print(f\"Accuracy on test data by Combined Model\\\n",
        ": {accuracy_score(y_test, final_preds)*100}\")\n",
        "cf_matrix = confusion_matrix(y_test, final_preds)\n",
        "plt.figure(figsize=(12,8))\n",
        "sns.heatmap(cf_matrix, annot=True)\n",
        "plt.title(\"Confusion Matrix for Combined Model on Test Data\")\n",
        "plt.show()"
      ],
      "metadata": {
        "id": "tsVNA7odfshW",
        "outputId": "cee4113d-e8c8-43e4-e6c9-7f3eb11ab021",
        "colab": {
          "base_uri": "https://localhost:8080/",
          "height": 534
        }
      },
      "execution_count": 72,
      "outputs": [
        {
          "output_type": "stream",
          "name": "stdout",
          "text": [
            "Accuracy on train data by Combined Model: 100.0\n",
            "Accuracy on test data by Combined Model: 100.0\n"
          ]
        },
        {
          "output_type": "display_data",
          "data": {
            "text/plain": [
              "<Figure size 864x576 with 2 Axes>"
            ],
            "image/png": "[encoded data removed]"
          },
          "metadata": {
            "needs_background": "light"
          }
        }
      ]
    },
    {
      "cell_type": "code",
      "source": [
        "symptoms = X.columns.values\n",
        " \n",
        "# Creating a symptom index dictionary to encode the\n",
        "# input symptoms into numerical form\n",
        "symptom_index = {}\n",
        "for index, value in enumerate(symptoms):\n",
        "    symptom = \" \".join([i.capitalize() for i in value.split(\"_\")])\n",
        "    symptom_index[symptom] = index\n",
        " \n",
        "data_dict = {\n",
        "    \"symptom_index\":symptom_index,\n",
        "    \"predictions_classes\":encoder.classes_\n",
        "}\n",
        " \n",
        "# Defining the Function\n",
        "# Input: string containing symptoms separated by commmas\n",
        "# Output: Generated predictions by models\n",
        "def predictDisease(symptoms):\n",
        "    symptoms = symptoms.split(\",\")\n",
        "     \n",
        "    # creating input data for the models\n",
        "    input_data = [0] * len(data_dict[\"symptom_index\"])\n",
        "    for symptom in symptoms:\n",
        "        index = data_dict[\"symptom_index\"][symptom]\n",
        "        input_data[index] = 1\n",
        "         \n",
        "    # reshaping the input data and converting it\n",
        "    # into suitable format for model predictions\n",
        "    input_data = np.array(input_data).reshape(1,-1)\n",
        "     \n",
        "    # generating individual outputs\n",
        "    rf_prediction = data_dict[\"predictions_classes\"][rf.predict(input_data)[0]]\n",
        "    nb_prediction = data_dict[\"predictions_classes\"][nb.predict(input_data)[0]]\n",
        "    svm_prediction = data_dict[\"predictions_classes\"][svm.predict(input_data)[0]]\n",
        "     \n",
        "    # making final prediction by taking mode of all predictions\n",
        "    final_prediction = mode([nb_prediction,rf_prediction,svm_prediction])[0][0]\n",
        "    predictions = {\n",
        "        \"rf_model_prediction\": rf_prediction,\n",
        "        \"naive_bayes_prediction\": nb_prediction,\n",
        "        \"svm_model_prediction\": nb_prediction,\n",
        "        \"Detected Disease\" : final_prediction\n",
        "    }\n",
        "    return predictions\n",
        " \n",
        "# Testing the function\n",
        "print(predictDisease(\"Acidity,Anxiety,Burning Micturition,Chills\"))"
      ],
      "metadata": {
        "colab": {
          "base_uri": "https://localhost:8080/"
        },
        "id": "Bnj3T2yoJG2c",
        "outputId": "cb83c05f-f027-49bb-aa89-bb66963521a1"
      },
      "execution_count": 75,
      "outputs": [
        {
          "output_type": "stream",
          "name": "stdout",
          "text": [
            "{'rf_model_prediction': 'Allergy', 'naive_bayes_prediction': 'Allergy', 'svm_model_prediction': 'Allergy', 'Detected Disease': 'Allergy'}\n"
          ]
        },
        {
          "output_type": "stream",
          "name": "stderr",
          "text": [
            "/usr/local/lib/python3.7/dist-packages/sklearn/base.py:451: UserWarning: X does not have valid feature names, but RandomForestClassifier was fitted with feature names\n",
            "  \"X does not have valid feature names, but\"\n",
            "/usr/local/lib/python3.7/dist-packages/sklearn/base.py:451: UserWarning: X does not have valid feature names, but GaussianNB was fitted with feature names\n",
            "  \"X does not have valid feature names, but\"\n",
            "/usr/local/lib/python3.7/dist-packages/sklearn/base.py:451: UserWarning: X does not have valid feature names, but SVC was fitted with feature names\n",
            "  \"X does not have valid feature names, but\"\n"
          ]
        }
      ]
    },
    {
      "cell_type": "code",
      "source": [
        "filename1 = 'DiseaseDetection(svm model).sav'\n",
        "filename2 = 'DiseaseDetection(rf model).sav'\n",
        "filename3 = 'DiseaseDetection(gaussian NB model).sav'\n",
        "filename4 = 'DiseaseDetection(Encoder).sav'\n",
        "pickle.dump(svm, open(filename1,'wb'))\n",
        "pickle.dump(rf,open(filename2,'wb'))\n",
        "pickle.dump(nb,open(filename3,'wb'))\n",
        "pickle.dump(encoder,open(filename4,'wb'))"
      ],
      "metadata": {
        "id": "hOXFlTwWzhl8"
      },
      "execution_count": 76,
      "outputs": []
    },
    {
      "cell_type": "code",
      "source": [
        ""
      ],
      "metadata": {
        "id": "jPSnBSUtrKWK"
      },
      "execution_count": null,
      "outputs": []
    }
  ]
}